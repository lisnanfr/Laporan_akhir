# Install library jika belum ada (hanya dijalankan sekali di Colab)
!pip install matplotlib pandas numpy

import pandas as pd
import matplotlib.pyplot as plt
import numpy as np

# Asumsi data dari query SQL diimpor sebagai DataFrame
# Anda perlu mengganti bagian ini dengan data aktual dari query Anda
# Contoh: Mengimpor data dari CSV atau langsung dari query SQL via connector

# A. Data tren laba rugi bersih (dari Simulasi Laba/Rugi)
data_laba = {
    'tahun': [2023, 2024, 2025, 2026, 2027],
    'laba_kotor': [975000000 - 625000000 - 52500000, 1050000000 - 680000000 - 57500000,
                   1140000000 - 735000000 - 62500000, 1225000000 - 790000000 - 67500000,
                   1300000000 - 845000000 - 72500000]
}
df_laba = pd.DataFrame(data_laba)

# B. Data PPh untuk perbandingan (dari Simulasi Tax Holiday)
data_pph = {
    'tahun': [2023, 2024, 2025, 2026, 2027],
    'normal_no_holiday': [0, 0, (1140000000 - 735000000 - 62500000) * 0.20,
                          (1225000000 - 790000000 - 67500000) * 0.20, (1300000000 - 845000000 - 72500000) * 0.18],
    'tax_holiday': [0, 0, 0, 0, 0],
    'garis_lurus': [(500000000 / 10) * 0.22, (2000000000 / 20) * 0.22, (750000000 / 12) * 0.20,
                    (150000000 / 7) * 0.20, 0],
    'saldo_menurun': [(300000000 * 2 / 5) * 0.22, (250000000 * 2 / 5) * 0.22, 0, 0, 0]
}
df_pph = pd.DataFrame(data_pph)

# C. Data arus kas setelah pajak (sederhana: laba_kotor - PPh)
df_arus_kas = df_laba.copy()
df_arus_kas['pph_normal'] = df_pph['normal_no_holiday']
df_arus_kas['arus_kas_setelah_pajak'] = df_laba['laba_kotor'] - df_pph['normal_no_holiday']

# Visualisasi 1: Tren Laba Rugi Bersih
plt.figure(figsize=(10, 6))
plt.plot(df_laba['tahun'], df_laba['laba_kotor'], marker='o', label='Laba Kotor')
plt.title('Tren Laba Kotor Tahunan (Skenario Normal)')
plt.xlabel('Tahun')
plt.ylabel('Laba Kotor (Rp)')
plt.grid(True)
plt.legend()
plt.show()

# Visualisasi 2: Perbandingan PPh
plt.figure(figsize=(10, 6))
plt.plot(df_pph['tahun'], df_pph['normal_no_holiday'], marker='o', label='Normal (No Holiday)')
plt.plot(df_pph['tahun'], df_pph['tax_holiday'], marker='o', label='Tax Holiday')
plt.plot(df_pph['tahun'], df_pph['garis_lurus'], marker='o', label='Garis Lurus')
plt.plot(df_pph['tahun'], df_pph['saldo_menurun'], marker='o', label='Saldo Menurun')
plt.title('Perbandingan PPh Badan')
plt.xlabel('Tahun')
plt.ylabel('PPh Badan (Rp)')
plt.grid(True)
plt.legend()
plt.show()

# Visualisasi 3: Arus Kas Setelah Pajak
plt.figure(figsize=(10, 6))
plt.plot(df_arus_kas['tahun'], df_arus_kas['arus_kas_setelah_pajak'], marker='o', label='Arus Kas Setelah Pajak')
plt.title('Arus Kas Setelah Pajak (Skenario Normal)')
plt.xlabel('Tahun')
plt.ylabel('Arus Kas (Rp)')
plt.grid(True)
plt.legend()
plt.show()
